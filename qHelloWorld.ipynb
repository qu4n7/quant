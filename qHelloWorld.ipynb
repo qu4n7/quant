{
  "nbformat": 4,
  "nbformat_minor": 0,
  "metadata": {
    "colab": {
      "name": "qHelloWorld.ipynb",
      "provenance": [],
      "collapsed_sections": []
    },
    "kernelspec": {
      "name": "python3",
      "display_name": "Python 3"
    }
  },
  "cells": [
    {
      "cell_type": "code",
      "metadata": {
        "id": "axfFcanAN6A-",
        "colab_type": "code",
        "outputId": "b90648aa-4530-4071-e175-0013e191b8cc",
        "colab": {
          "base_uri": "https://localhost:8080/",
          "height": 1000
        }
      },
      "source": [
        "!pip install qiskit\n",
        "!pip install qiskit-terra[visualization]"
      ],
      "execution_count": 1,
      "outputs": [
        {
          "output_type": "stream",
          "text": [
            "Collecting qiskit\n",
            "  Downloading https://files.pythonhosted.org/packages/9e/2d/4c09bc1292a3be92f8c003b8491215ac9a0d81b014384e95a659a58ddf57/qiskit-0.13.0.tar.gz\n",
            "Collecting qiskit-terra==0.10.0\n",
            "\u001b[?25l  Downloading https://files.pythonhosted.org/packages/09/97/1be77cc1b22f3bd341024b1bae89d71ca9ee147ac047f793364cadc873a8/qiskit_terra-0.10.0-cp36-cp36m-manylinux1_x86_64.whl (1.6MB)\n",
            "\u001b[K     |████████████████████████████████| 1.6MB 4.9MB/s \n",
            "\u001b[?25hCollecting qiskit-aer==0.3.2\n",
            "\u001b[?25l  Downloading https://files.pythonhosted.org/packages/57/aa/8f6d5515f6e70e41d9f7e5ee2b3ce18cabe5fb21001a169757d1f1f8ff1f/qiskit_aer-0.3.2-cp36-cp36m-manylinux2010_x86_64.whl (17.3MB)\n",
            "\u001b[K     |████████████████████████████████| 17.3MB 133kB/s \n",
            "\u001b[?25hCollecting qiskit-ibmq-provider==0.3.3\n",
            "\u001b[?25l  Downloading https://files.pythonhosted.org/packages/cb/6a/ae5f648a565492dd6a39d2472e8940434f2df36c9c4422a39bc9535bfe01/qiskit-ibmq-provider-0.3.3.tar.gz (57kB)\n",
            "\u001b[K     |████████████████████████████████| 61kB 8.1MB/s \n",
            "\u001b[?25hCollecting qiskit-ignis==0.2.0\n",
            "\u001b[?25l  Downloading https://files.pythonhosted.org/packages/78/f2/f4f89c65d2c13f473092f7e800519836611ddeeaab8d4591a70555b26a37/qiskit_ignis-0.2.0-py3-none-any.whl (100kB)\n",
            "\u001b[K     |████████████████████████████████| 102kB 8.9MB/s \n",
            "\u001b[?25hCollecting qiskit-aqua==0.6.1\n",
            "\u001b[?25l  Downloading https://files.pythonhosted.org/packages/47/2b/632c195974804d17dca01554caa013dd0c3023f4e4e6b91213c3381ce514/qiskit_aqua-0.6.1-py3-none-any.whl (979kB)\n",
            "\u001b[K     |████████████████████████████████| 983kB 58.3MB/s \n",
            "\u001b[?25hRequirement already satisfied: psutil>=5 in /usr/local/lib/python3.6/dist-packages (from qiskit-terra==0.10.0->qiskit) (5.4.8)\n",
            "Requirement already satisfied: scipy>=1.0 in /usr/local/lib/python3.6/dist-packages (from qiskit-terra==0.10.0->qiskit) (1.3.1)\n",
            "Requirement already satisfied: jsonschema>=2.6 in /usr/local/lib/python3.6/dist-packages (from qiskit-terra==0.10.0->qiskit) (2.6.0)\n",
            "Requirement already satisfied: numpy>=1.13 in /usr/local/lib/python3.6/dist-packages (from qiskit-terra==0.10.0->qiskit) (1.17.3)\n",
            "Requirement already satisfied: networkx>=2.2 in /usr/local/lib/python3.6/dist-packages (from qiskit-terra==0.10.0->qiskit) (2.4)\n",
            "Collecting ply>=3.10\n",
            "\u001b[?25l  Downloading https://files.pythonhosted.org/packages/a3/58/35da89ee790598a0700ea49b2a66594140f44dec458c07e8e3d4979137fc/ply-3.11-py2.py3-none-any.whl (49kB)\n",
            "\u001b[K     |████████████████████████████████| 51kB 6.9MB/s \n",
            "\u001b[?25hCollecting sympy>=1.3\n",
            "\u001b[?25l  Downloading https://files.pythonhosted.org/packages/21/21/f4105795ca7f35c541d82c5b06be684dd2f5cb4f508fb487cd7aea4de776/sympy-1.4-py2.py3-none-any.whl (5.3MB)\n",
            "\u001b[K     |████████████████████████████████| 5.3MB 43.4MB/s \n",
            "\u001b[?25hCollecting marshmallow-polyfield<6,>=5.7\n",
            "  Downloading https://files.pythonhosted.org/packages/d7/6c/416e7e529d03362bb57bb4be16a0bb1ada6325b12adf3e31fec4c10ef1b1/marshmallow-polyfield-5.7.tar.gz\n",
            "Collecting marshmallow<4,>=3\n",
            "\u001b[?25l  Downloading https://files.pythonhosted.org/packages/78/8c/aa99cd72e69ce14c754a4df752a57faffbd698b14a6fda598a3950273e99/marshmallow-3.2.1-py2.py3-none-any.whl (45kB)\n",
            "\u001b[K     |████████████████████████████████| 51kB 7.0MB/s \n",
            "\u001b[?25hCollecting nest-asyncio==1.0.0\n",
            "  Downloading https://files.pythonhosted.org/packages/62/18/4c6a895c925e8822e72535d774861e9ca07089c4b938ed20002b1aaab66a/nest_asyncio-1.0.0-py3-none-any.whl\n",
            "Requirement already satisfied: requests>=2.19 in /usr/local/lib/python3.6/dist-packages (from qiskit-ibmq-provider==0.3.3->qiskit) (2.21.0)\n",
            "Collecting requests-ntlm>=1.1.0\n",
            "  Downloading https://files.pythonhosted.org/packages/03/4b/8b9a1afde8072c4d5710d9fa91433d504325821b038e00237dc8d6d833dc/requests_ntlm-1.1.0-py2.py3-none-any.whl\n",
            "Collecting websockets<8,>=7\n",
            "\u001b[?25l  Downloading https://files.pythonhosted.org/packages/43/71/8bfa882b9c502c36e5c9ef6732969533670d2b039cbf95a82ced8f762b80/websockets-7.0-cp36-cp36m-manylinux1_x86_64.whl (63kB)\n",
            "\u001b[K     |████████████████████████████████| 71kB 8.9MB/s \n",
            "\u001b[?25hRequirement already satisfied: setuptools>=40.1.0 in /usr/local/lib/python3.6/dist-packages (from qiskit-ignis==0.2.0->qiskit) (41.4.0)\n",
            "Collecting dlx\n",
            "  Downloading https://files.pythonhosted.org/packages/54/c0/b8fb5bb727e983b6f5251433ef941b48f38c65bb0bd6ec509e9185bcd406/dlx-1.0.4.tar.gz\n",
            "Requirement already satisfied: scikit-learn>=0.20.0 in /usr/local/lib/python3.6/dist-packages (from qiskit-aqua==0.6.1->qiskit) (0.21.3)\n",
            "Collecting docplex\n",
            "\u001b[?25l  Downloading https://files.pythonhosted.org/packages/fb/b9/37d68e68bbb46625a283c6b900989934538d5fb2ae6e7748288641fbac30/docplex-2.10.155.tar.gz (529kB)\n",
            "\u001b[K     |████████████████████████████████| 532kB 50.7MB/s \n",
            "\u001b[?25hRequirement already satisfied: fastdtw in /usr/local/lib/python3.6/dist-packages (from qiskit-aqua==0.6.1->qiskit) (0.3.4)\n",
            "Collecting pyscf; sys_platform != \"win32\"\n",
            "\u001b[?25l  Downloading https://files.pythonhosted.org/packages/e4/d7/5d16fe2b331c73317df251d2e4f090b44974a3cd6d58141741480f45656d/pyscf-1.6.4-cp36-cp36m-manylinux1_x86_64.whl (21.7MB)\n",
            "\u001b[K     |████████████████████████████████| 21.7MB 1.3MB/s \n",
            "\u001b[?25hRequirement already satisfied: cvxopt in /usr/local/lib/python3.6/dist-packages (from qiskit-aqua==0.6.1->qiskit) (1.2.3)\n",
            "Requirement already satisfied: h5py in /usr/local/lib/python3.6/dist-packages (from qiskit-aqua==0.6.1->qiskit) (2.8.0)\n",
            "Collecting quandl\n",
            "  Downloading https://files.pythonhosted.org/packages/12/64/6314547cb01fa75697ddba6d6d43a9f1d023c1730ffc6abf3db7a0c89222/Quandl-3.4.8-py2.py3-none-any.whl\n",
            "Requirement already satisfied: decorator>=4.3.0 in /usr/local/lib/python3.6/dist-packages (from networkx>=2.2->qiskit-terra==0.10.0->qiskit) (4.4.1)\n",
            "Requirement already satisfied: mpmath>=0.19 in /usr/local/lib/python3.6/dist-packages (from sympy>=1.3->qiskit-terra==0.10.0->qiskit) (1.1.0)\n",
            "Requirement already satisfied: six in /usr/local/lib/python3.6/dist-packages (from marshmallow-polyfield<6,>=5.7->qiskit-terra==0.10.0->qiskit) (1.12.0)\n",
            "Requirement already satisfied: chardet<3.1.0,>=3.0.2 in /usr/local/lib/python3.6/dist-packages (from requests>=2.19->qiskit-ibmq-provider==0.3.3->qiskit) (3.0.4)\n",
            "Requirement already satisfied: certifi>=2017.4.17 in /usr/local/lib/python3.6/dist-packages (from requests>=2.19->qiskit-ibmq-provider==0.3.3->qiskit) (2019.9.11)\n",
            "Requirement already satisfied: urllib3<1.25,>=1.21.1 in /usr/local/lib/python3.6/dist-packages (from requests>=2.19->qiskit-ibmq-provider==0.3.3->qiskit) (1.24.3)\n",
            "Requirement already satisfied: idna<2.9,>=2.5 in /usr/local/lib/python3.6/dist-packages (from requests>=2.19->qiskit-ibmq-provider==0.3.3->qiskit) (2.8)\n",
            "Collecting ntlm-auth>=1.0.2\n",
            "  Downloading https://files.pythonhosted.org/packages/50/09/5e397eb18685b14fd8b209e26cdb4fa6451c82c1bcc651fef05fa73e7b27/ntlm_auth-1.4.0-py2.py3-none-any.whl\n",
            "Collecting cryptography>=1.3\n",
            "\u001b[?25l  Downloading https://files.pythonhosted.org/packages/ca/9a/7cece52c46546e214e10811b36b2da52ce1ea7fa203203a629b8dfadad53/cryptography-2.8-cp34-abi3-manylinux2010_x86_64.whl (2.3MB)\n",
            "\u001b[K     |████████████████████████████████| 2.3MB 38.5MB/s \n",
            "\u001b[?25hRequirement already satisfied: joblib>=0.11 in /usr/local/lib/python3.6/dist-packages (from scikit-learn>=0.20.0->qiskit-aqua==0.6.1->qiskit) (0.14.0)\n",
            "Collecting docloud>=1.0.369\n",
            "  Downloading https://files.pythonhosted.org/packages/89/1c/fcb7ea86ae5cb7137a22f00bcaa785de2d102bd4a2b16383ec4a877a835b/docloud-1.0.375.tar.gz\n",
            "Requirement already satisfied: python-dateutil in /usr/local/lib/python3.6/dist-packages (from quandl->qiskit-aqua==0.6.1->qiskit) (2.6.1)\n",
            "Requirement already satisfied: pandas>=0.14 in /usr/local/lib/python3.6/dist-packages (from quandl->qiskit-aqua==0.6.1->qiskit) (0.25.2)\n",
            "Collecting ndg-httpsclient\n",
            "  Downloading https://files.pythonhosted.org/packages/fb/67/c2f508c00ed2a6911541494504b7cac16fe0b0473912568df65fd1801132/ndg_httpsclient-0.5.1-py3-none-any.whl\n",
            "Collecting pyOpenSSL\n",
            "\u001b[?25l  Downloading https://files.pythonhosted.org/packages/01/c8/ceb170d81bd3941cbeb9940fc6cc2ef2ca4288d0ca8929ea4db5905d904d/pyOpenSSL-19.0.0-py2.py3-none-any.whl (53kB)\n",
            "\u001b[K     |████████████████████████████████| 61kB 8.5MB/s \n",
            "\u001b[?25hCollecting more-itertools<=5.0.0\n",
            "\u001b[?25l  Downloading https://files.pythonhosted.org/packages/a4/a6/42f17d065bda1fac255db13afc94c93dbfb64393eae37c749b4cb0752fc7/more_itertools-5.0.0-py3-none-any.whl (52kB)\n",
            "\u001b[K     |████████████████████████████████| 61kB 8.2MB/s \n",
            "\u001b[?25hCollecting inflection>=0.3.1\n",
            "  Downloading https://files.pythonhosted.org/packages/d5/35/a6eb45b4e2356fe688b21570864d4aa0d0a880ce387defe9c589112077f8/inflection-0.3.1.tar.gz\n",
            "Requirement already satisfied: pyasn1 in /usr/local/lib/python3.6/dist-packages (from quandl->qiskit-aqua==0.6.1->qiskit) (0.4.7)\n",
            "Requirement already satisfied: cffi!=1.11.3,>=1.8 in /usr/local/lib/python3.6/dist-packages (from cryptography>=1.3->requests-ntlm>=1.1.0->qiskit-ibmq-provider==0.3.3->qiskit) (1.13.1)\n",
            "Requirement already satisfied: pytz>=2017.2 in /usr/local/lib/python3.6/dist-packages (from pandas>=0.14->quandl->qiskit-aqua==0.6.1->qiskit) (2018.9)\n",
            "Requirement already satisfied: pycparser in /usr/local/lib/python3.6/dist-packages (from cffi!=1.11.3,>=1.8->cryptography>=1.3->requests-ntlm>=1.1.0->qiskit-ibmq-provider==0.3.3->qiskit) (2.19)\n",
            "Building wheels for collected packages: qiskit, qiskit-ibmq-provider, marshmallow-polyfield, dlx, docplex, docloud, inflection\n",
            "  Building wheel for qiskit (setup.py) ... \u001b[?25l\u001b[?25hdone\n",
            "  Created wheel for qiskit: filename=qiskit-0.13.0-cp36-none-any.whl size=1399 sha256=beb4556f49c9461ad7fc67bc9bf18ba4f2fc314b4dcd41f078b22520a1683fc9\n",
            "  Stored in directory: /root/.cache/pip/wheels/4e/f0/27/e914f739445603aa0229efc92a205fbbe3535aa1054b5a1f67\n",
            "  Building wheel for qiskit-ibmq-provider (setup.py) ... \u001b[?25l\u001b[?25hdone\n",
            "  Created wheel for qiskit-ibmq-provider: filename=qiskit_ibmq_provider-0.3.3-cp36-none-any.whl size=85719 sha256=e63b4c3242420e48a5eeeea63ffc628964a6f502e158a257ea97195a62537ab9\n",
            "  Stored in directory: /root/.cache/pip/wheels/52/ff/94/ed9ed05fff0099b4de0a27df50fcf3bc7a0db91b356819dc1c\n",
            "  Building wheel for marshmallow-polyfield (setup.py) ... \u001b[?25l\u001b[?25hdone\n",
            "  Created wheel for marshmallow-polyfield: filename=marshmallow_polyfield-5.7-cp36-none-any.whl size=8580 sha256=21931ecbc734adfe45994ee95c4a494fde6d4b2d4011e37cf7b5e0da61921ee6\n",
            "  Stored in directory: /root/.cache/pip/wheels/68/f5/09/1dcfa8613b095bb326caadfb4b111d7fc945875948b75f5c14\n",
            "  Building wheel for dlx (setup.py) ... \u001b[?25l\u001b[?25hdone\n",
            "  Created wheel for dlx: filename=dlx-1.0.4-cp36-none-any.whl size=5710 sha256=52d3922bea158e3949e824025630999d38ca61b0af95e4de49fb113b79387ae0\n",
            "  Stored in directory: /root/.cache/pip/wheels/bb/ba/15/fdd0deb104df3254912998150ba9245668db06b00af5912d1a\n",
            "  Building wheel for docplex (setup.py) ... \u001b[?25l\u001b[?25hdone\n",
            "  Created wheel for docplex: filename=docplex-2.10.155-cp36-none-any.whl size=591516 sha256=97878234b49dec7c79c5ca15e85963df3722aa2f0277c9d3f133351e50cc1bb8\n",
            "  Stored in directory: /root/.cache/pip/wheels/4d/29/ab/0ff88dd04d5b6a360650695db638b9f607931a1d667348a439\n",
            "  Building wheel for docloud (setup.py) ... \u001b[?25l\u001b[?25hdone\n",
            "  Created wheel for docloud: filename=docloud-1.0.375-cp36-none-any.whl size=19479 sha256=64e28dbf574a2fbd586b1b916d362254100769f2a4d1a04e511aeed05476dd5c\n",
            "  Stored in directory: /root/.cache/pip/wheels/4e/24/19/9b0e57545d7543ecec35c5faff78c058bf0c2506369c8b1d31\n",
            "  Building wheel for inflection (setup.py) ... \u001b[?25l\u001b[?25hdone\n",
            "  Created wheel for inflection: filename=inflection-0.3.1-cp36-none-any.whl size=6076 sha256=3c6ab8746d3829197f871b5a503691dea4c23dc2fb8442d89f7e65af513cfaca\n",
            "  Stored in directory: /root/.cache/pip/wheels/9f/5a/d3/6fc3bf6516d2a3eb7e18f9f28b472110b59325f3f258fe9211\n",
            "Successfully built qiskit qiskit-ibmq-provider marshmallow-polyfield dlx docplex docloud inflection\n",
            "\u001b[31mERROR: datascience 0.10.6 has requirement folium==0.2.1, but you'll have folium 0.8.3 which is incompatible.\u001b[0m\n",
            "Installing collected packages: ply, sympy, marshmallow, marshmallow-polyfield, qiskit-terra, qiskit-aer, nest-asyncio, ntlm-auth, cryptography, requests-ntlm, websockets, qiskit-ibmq-provider, qiskit-ignis, dlx, docloud, docplex, pyscf, pyOpenSSL, ndg-httpsclient, more-itertools, inflection, quandl, qiskit-aqua, qiskit\n",
            "  Found existing installation: sympy 1.1.1\n",
            "    Uninstalling sympy-1.1.1:\n",
            "      Successfully uninstalled sympy-1.1.1\n",
            "  Found existing installation: more-itertools 7.2.0\n",
            "    Uninstalling more-itertools-7.2.0:\n",
            "      Successfully uninstalled more-itertools-7.2.0\n",
            "Successfully installed cryptography-2.8 dlx-1.0.4 docloud-1.0.375 docplex-2.10.155 inflection-0.3.1 marshmallow-3.2.1 marshmallow-polyfield-5.7 more-itertools-5.0.0 ndg-httpsclient-0.5.1 nest-asyncio-1.0.0 ntlm-auth-1.4.0 ply-3.11 pyOpenSSL-19.0.0 pyscf-1.6.4 qiskit-0.13.0 qiskit-aer-0.3.2 qiskit-aqua-0.6.1 qiskit-ibmq-provider-0.3.3 qiskit-ignis-0.2.0 qiskit-terra-0.10.0 quandl-3.4.8 requests-ntlm-1.1.0 sympy-1.4 websockets-7.0\n",
            "Requirement already satisfied: qiskit-terra[visualization] in /usr/local/lib/python3.6/dist-packages (0.10.0)\n",
            "Requirement already satisfied: networkx>=2.2 in /usr/local/lib/python3.6/dist-packages (from qiskit-terra[visualization]) (2.4)\n",
            "Requirement already satisfied: scipy>=1.0 in /usr/local/lib/python3.6/dist-packages (from qiskit-terra[visualization]) (1.3.1)\n",
            "Requirement already satisfied: ply>=3.10 in /usr/local/lib/python3.6/dist-packages (from qiskit-terra[visualization]) (3.11)\n",
            "Requirement already satisfied: jsonschema>=2.6 in /usr/local/lib/python3.6/dist-packages (from qiskit-terra[visualization]) (2.6.0)\n",
            "Requirement already satisfied: numpy>=1.13 in /usr/local/lib/python3.6/dist-packages (from qiskit-terra[visualization]) (1.17.3)\n",
            "Requirement already satisfied: marshmallow<4,>=3 in /usr/local/lib/python3.6/dist-packages (from qiskit-terra[visualization]) (3.2.1)\n",
            "Requirement already satisfied: psutil>=5 in /usr/local/lib/python3.6/dist-packages (from qiskit-terra[visualization]) (5.4.8)\n",
            "Requirement already satisfied: marshmallow-polyfield<6,>=5.7 in /usr/local/lib/python3.6/dist-packages (from qiskit-terra[visualization]) (5.7)\n",
            "Requirement already satisfied: sympy>=1.3 in /usr/local/lib/python3.6/dist-packages (from qiskit-terra[visualization]) (1.4)\n",
            "Requirement already satisfied: pillow>=4.2.1; extra == \"visualization\" in /usr/local/lib/python3.6/dist-packages (from qiskit-terra[visualization]) (4.3.0)\n",
            "Collecting nxpd>=0.2; extra == \"visualization\"\n",
            "  Downloading https://files.pythonhosted.org/packages/6a/fe/2ec17a6fbbff333db22a6ee84dbb2ba09ecb3ff111d37e7ff3aec69852a1/nxpd-0.2.0.tar.gz\n",
            "Requirement already satisfied: matplotlib>=2.1; extra == \"visualization\" in /usr/local/lib/python3.6/dist-packages (from qiskit-terra[visualization]) (3.1.1)\n",
            "Collecting pylatexenc>=1.4; extra == \"visualization\"\n",
            "\u001b[?25l  Downloading https://files.pythonhosted.org/packages/bd/6d/148934130b53fdccc7f9b35926e883bbe635f8873c3ddcb5c8503b0d018d/pylatexenc-2.1.tar.gz (119kB)\n",
            "\u001b[K     |████████████████████████████████| 122kB 14.1MB/s \n",
            "\u001b[?25hRequirement already satisfied: ipywidgets>=7.3.0; extra == \"visualization\" in /usr/local/lib/python3.6/dist-packages (from qiskit-terra[visualization]) (7.5.1)\n",
            "Requirement already satisfied: pydot; extra == \"visualization\" in /usr/local/lib/python3.6/dist-packages (from qiskit-terra[visualization]) (1.3.0)\n",
            "Requirement already satisfied: seaborn>=0.9.0; extra == \"visualization\" in /usr/local/lib/python3.6/dist-packages (from qiskit-terra[visualization]) (0.9.0)\n",
            "Requirement already satisfied: decorator>=4.3.0 in /usr/local/lib/python3.6/dist-packages (from networkx>=2.2->qiskit-terra[visualization]) (4.4.1)\n",
            "Requirement already satisfied: six in /usr/local/lib/python3.6/dist-packages (from marshmallow-polyfield<6,>=5.7->qiskit-terra[visualization]) (1.12.0)\n",
            "Requirement already satisfied: mpmath>=0.19 in /usr/local/lib/python3.6/dist-packages (from sympy>=1.3->qiskit-terra[visualization]) (1.1.0)\n",
            "Requirement already satisfied: olefile in /usr/local/lib/python3.6/dist-packages (from pillow>=4.2.1; extra == \"visualization\"->qiskit-terra[visualization]) (0.46)\n",
            "Requirement already satisfied: pyparsing>=2.0.1 in /usr/local/lib/python3.6/dist-packages (from nxpd>=0.2; extra == \"visualization\"->qiskit-terra[visualization]) (2.4.2)\n",
            "Requirement already satisfied: kiwisolver>=1.0.1 in /usr/local/lib/python3.6/dist-packages (from matplotlib>=2.1; extra == \"visualization\"->qiskit-terra[visualization]) (1.1.0)\n",
            "Requirement already satisfied: python-dateutil>=2.1 in /usr/local/lib/python3.6/dist-packages (from matplotlib>=2.1; extra == \"visualization\"->qiskit-terra[visualization]) (2.6.1)\n",
            "Requirement already satisfied: cycler>=0.10 in /usr/local/lib/python3.6/dist-packages (from matplotlib>=2.1; extra == \"visualization\"->qiskit-terra[visualization]) (0.10.0)\n",
            "Requirement already satisfied: ipykernel>=4.5.1 in /usr/local/lib/python3.6/dist-packages (from ipywidgets>=7.3.0; extra == \"visualization\"->qiskit-terra[visualization]) (4.6.1)\n",
            "Requirement already satisfied: widgetsnbextension~=3.5.0 in /usr/local/lib/python3.6/dist-packages (from ipywidgets>=7.3.0; extra == \"visualization\"->qiskit-terra[visualization]) (3.5.1)\n",
            "Requirement already satisfied: nbformat>=4.2.0 in /usr/local/lib/python3.6/dist-packages (from ipywidgets>=7.3.0; extra == \"visualization\"->qiskit-terra[visualization]) (4.4.0)\n",
            "Requirement already satisfied: traitlets>=4.3.1 in /usr/local/lib/python3.6/dist-packages (from ipywidgets>=7.3.0; extra == \"visualization\"->qiskit-terra[visualization]) (4.3.3)\n",
            "Requirement already satisfied: ipython>=4.0.0; python_version >= \"3.3\" in /usr/local/lib/python3.6/dist-packages (from ipywidgets>=7.3.0; extra == \"visualization\"->qiskit-terra[visualization]) (5.5.0)\n",
            "Requirement already satisfied: pandas>=0.15.2 in /usr/local/lib/python3.6/dist-packages (from seaborn>=0.9.0; extra == \"visualization\"->qiskit-terra[visualization]) (0.25.2)\n",
            "Requirement already satisfied: setuptools in /usr/local/lib/python3.6/dist-packages (from kiwisolver>=1.0.1->matplotlib>=2.1; extra == \"visualization\"->qiskit-terra[visualization]) (41.4.0)\n",
            "Requirement already satisfied: jupyter-client in /usr/local/lib/python3.6/dist-packages (from ipykernel>=4.5.1->ipywidgets>=7.3.0; extra == \"visualization\"->qiskit-terra[visualization]) (5.3.4)\n",
            "Requirement already satisfied: tornado>=4.0 in /usr/local/lib/python3.6/dist-packages (from ipykernel>=4.5.1->ipywidgets>=7.3.0; extra == \"visualization\"->qiskit-terra[visualization]) (4.5.3)\n",
            "Requirement already satisfied: notebook>=4.4.1 in /usr/local/lib/python3.6/dist-packages (from widgetsnbextension~=3.5.0->ipywidgets>=7.3.0; extra == \"visualization\"->qiskit-terra[visualization]) (5.2.2)\n",
            "Requirement already satisfied: jupyter-core in /usr/local/lib/python3.6/dist-packages (from nbformat>=4.2.0->ipywidgets>=7.3.0; extra == \"visualization\"->qiskit-terra[visualization]) (4.6.1)\n",
            "Requirement already satisfied: ipython-genutils in /usr/local/lib/python3.6/dist-packages (from nbformat>=4.2.0->ipywidgets>=7.3.0; extra == \"visualization\"->qiskit-terra[visualization]) (0.2.0)\n",
            "Requirement already satisfied: pygments in /usr/local/lib/python3.6/dist-packages (from ipython>=4.0.0; python_version >= \"3.3\"->ipywidgets>=7.3.0; extra == \"visualization\"->qiskit-terra[visualization]) (2.1.3)\n",
            "Requirement already satisfied: prompt-toolkit<2.0.0,>=1.0.4 in /usr/local/lib/python3.6/dist-packages (from ipython>=4.0.0; python_version >= \"3.3\"->ipywidgets>=7.3.0; extra == \"visualization\"->qiskit-terra[visualization]) (1.0.18)\n",
            "Requirement already satisfied: simplegeneric>0.8 in /usr/local/lib/python3.6/dist-packages (from ipython>=4.0.0; python_version >= \"3.3\"->ipywidgets>=7.3.0; extra == \"visualization\"->qiskit-terra[visualization]) (0.8.1)\n",
            "Requirement already satisfied: pexpect; sys_platform != \"win32\" in /usr/local/lib/python3.6/dist-packages (from ipython>=4.0.0; python_version >= \"3.3\"->ipywidgets>=7.3.0; extra == \"visualization\"->qiskit-terra[visualization]) (4.7.0)\n",
            "Requirement already satisfied: pickleshare in /usr/local/lib/python3.6/dist-packages (from ipython>=4.0.0; python_version >= \"3.3\"->ipywidgets>=7.3.0; extra == \"visualization\"->qiskit-terra[visualization]) (0.7.5)\n",
            "Requirement already satisfied: pytz>=2017.2 in /usr/local/lib/python3.6/dist-packages (from pandas>=0.15.2->seaborn>=0.9.0; extra == \"visualization\"->qiskit-terra[visualization]) (2018.9)\n",
            "Requirement already satisfied: pyzmq>=13 in /usr/local/lib/python3.6/dist-packages (from jupyter-client->ipykernel>=4.5.1->ipywidgets>=7.3.0; extra == \"visualization\"->qiskit-terra[visualization]) (17.0.0)\n",
            "Requirement already satisfied: terminado>=0.3.3; sys_platform != \"win32\" in /usr/local/lib/python3.6/dist-packages (from notebook>=4.4.1->widgetsnbextension~=3.5.0->ipywidgets>=7.3.0; extra == \"visualization\"->qiskit-terra[visualization]) (0.8.2)\n",
            "Requirement already satisfied: nbconvert in /usr/local/lib/python3.6/dist-packages (from notebook>=4.4.1->widgetsnbextension~=3.5.0->ipywidgets>=7.3.0; extra == \"visualization\"->qiskit-terra[visualization]) (5.6.1)\n",
            "Requirement already satisfied: jinja2 in /usr/local/lib/python3.6/dist-packages (from notebook>=4.4.1->widgetsnbextension~=3.5.0->ipywidgets>=7.3.0; extra == \"visualization\"->qiskit-terra[visualization]) (2.10.3)\n",
            "Requirement already satisfied: wcwidth in /usr/local/lib/python3.6/dist-packages (from prompt-toolkit<2.0.0,>=1.0.4->ipython>=4.0.0; python_version >= \"3.3\"->ipywidgets>=7.3.0; extra == \"visualization\"->qiskit-terra[visualization]) (0.1.7)\n",
            "Requirement already satisfied: ptyprocess>=0.5 in /usr/local/lib/python3.6/dist-packages (from pexpect; sys_platform != \"win32\"->ipython>=4.0.0; python_version >= \"3.3\"->ipywidgets>=7.3.0; extra == \"visualization\"->qiskit-terra[visualization]) (0.6.0)\n",
            "Requirement already satisfied: mistune<2,>=0.8.1 in /usr/local/lib/python3.6/dist-packages (from nbconvert->notebook>=4.4.1->widgetsnbextension~=3.5.0->ipywidgets>=7.3.0; extra == \"visualization\"->qiskit-terra[visualization]) (0.8.4)\n",
            "Requirement already satisfied: defusedxml in /usr/local/lib/python3.6/dist-packages (from nbconvert->notebook>=4.4.1->widgetsnbextension~=3.5.0->ipywidgets>=7.3.0; extra == \"visualization\"->qiskit-terra[visualization]) (0.6.0)\n",
            "Requirement already satisfied: bleach in /usr/local/lib/python3.6/dist-packages (from nbconvert->notebook>=4.4.1->widgetsnbextension~=3.5.0->ipywidgets>=7.3.0; extra == \"visualization\"->qiskit-terra[visualization]) (3.1.0)\n",
            "Requirement already satisfied: pandocfilters>=1.4.1 in /usr/local/lib/python3.6/dist-packages (from nbconvert->notebook>=4.4.1->widgetsnbextension~=3.5.0->ipywidgets>=7.3.0; extra == \"visualization\"->qiskit-terra[visualization]) (1.4.2)\n",
            "Requirement already satisfied: testpath in /usr/local/lib/python3.6/dist-packages (from nbconvert->notebook>=4.4.1->widgetsnbextension~=3.5.0->ipywidgets>=7.3.0; extra == \"visualization\"->qiskit-terra[visualization]) (0.4.2)\n",
            "Requirement already satisfied: entrypoints>=0.2.2 in /usr/local/lib/python3.6/dist-packages (from nbconvert->notebook>=4.4.1->widgetsnbextension~=3.5.0->ipywidgets>=7.3.0; extra == \"visualization\"->qiskit-terra[visualization]) (0.3)\n",
            "Requirement already satisfied: MarkupSafe>=0.23 in /usr/local/lib/python3.6/dist-packages (from jinja2->notebook>=4.4.1->widgetsnbextension~=3.5.0->ipywidgets>=7.3.0; extra == \"visualization\"->qiskit-terra[visualization]) (1.1.1)\n",
            "Requirement already satisfied: webencodings in /usr/local/lib/python3.6/dist-packages (from bleach->nbconvert->notebook>=4.4.1->widgetsnbextension~=3.5.0->ipywidgets>=7.3.0; extra == \"visualization\"->qiskit-terra[visualization]) (0.5.1)\n",
            "Building wheels for collected packages: nxpd, pylatexenc\n",
            "  Building wheel for nxpd (setup.py) ... \u001b[?25l\u001b[?25hdone\n",
            "  Created wheel for nxpd: filename=nxpd-0.2.0-cp36-none-any.whl size=28299 sha256=0fe82f78bfed116d3b28dc9e95ee9764562e0222577c2e6a29f7326bbf6fd673\n",
            "  Stored in directory: /root/.cache/pip/wheels/b9/0b/a2/ccdb5dd4ed0fce4220bbffbbd1683eed3468cfe2d266c78627\n",
            "  Building wheel for pylatexenc (setup.py) ... \u001b[?25l\u001b[?25hdone\n",
            "  Created wheel for pylatexenc: filename=pylatexenc-2.1-cp36-none-any.whl size=114985 sha256=ce39cdc42845064df19d6fa4e7fc335525c7ef1a338ca4ff0e04d1113c0c75b4\n",
            "  Stored in directory: /root/.cache/pip/wheels/1f/96/37/af1deb0b5942a2f4a7a895f49fc8431f6999721f00be42c3b6\n",
            "Successfully built nxpd pylatexenc\n",
            "Installing collected packages: nxpd, pylatexenc\n",
            "Successfully installed nxpd-0.2.0 pylatexenc-2.1\n"
          ],
          "name": "stdout"
        }
      ]
    },
    {
      "cell_type": "code",
      "metadata": {
        "id": "hgEBSZG3O1Mh",
        "colab_type": "code",
        "colab": {}
      },
      "source": [
        "import qiskit\n",
        "from qiskit import ClassicalRegister, QuantumRegister, QuantumCircuit\n",
        "from qiskit import execute, Aer\n",
        "from qiskit import IBMQ\n",
        "from qiskit.tools.visualization import plot_histogram\n",
        "\n",
        "from google.colab import drive"
      ],
      "execution_count": 0,
      "outputs": []
    },
    {
      "cell_type": "code",
      "metadata": {
        "id": "ROvYucTkPtcE",
        "colab_type": "code",
        "outputId": "34579b09-eb5c-460a-ec61-dc74316f853b",
        "colab": {
          "base_uri": "https://localhost:8080/",
          "height": 122
        }
      },
      "source": [
        "drive.mount('drive')"
      ],
      "execution_count": 3,
      "outputs": [
        {
          "output_type": "stream",
          "text": [
            "Go to this URL in a browser: https://accounts.google.com/o/oauth2/auth?client_id=947318989803-6bn6qk8qdgf4n4g3pfee6491hc0brc4i.apps.googleusercontent.com&redirect_uri=urn%3Aietf%3Awg%3Aoauth%3A2.0%3Aoob&scope=email%20https%3A%2F%2Fwww.googleapis.com%2Fauth%2Fdocs.test%20https%3A%2F%2Fwww.googleapis.com%2Fauth%2Fdrive%20https%3A%2F%2Fwww.googleapis.com%2Fauth%2Fdrive.photos.readonly%20https%3A%2F%2Fwww.googleapis.com%2Fauth%2Fpeopleapi.readonly&response_type=code\n",
            "\n",
            "Enter your authorization code:\n",
            "··········\n",
            "Mounted at drive\n"
          ],
          "name": "stdout"
        }
      ]
    },
    {
      "cell_type": "code",
      "metadata": {
        "id": "ITvNRYt4QEcF",
        "colab_type": "code",
        "outputId": "5257da96-cd66-4bf9-bd97-caa631d63244",
        "colab": {
          "base_uri": "https://localhost:8080/",
          "height": 34
        }
      },
      "source": [
        "!ls 'drive/My Drive/quant'"
      ],
      "execution_count": 5,
      "outputs": [
        {
          "output_type": "stream",
          "text": [
            "no_cloning_theorem.gdoc  qiskit.ipynb\n"
          ],
          "name": "stdout"
        }
      ]
    },
    {
      "cell_type": "code",
      "metadata": {
        "id": "w2HATW4aGBxq",
        "colab_type": "code",
        "colab": {
          "base_uri": "https://localhost:8080/",
          "height": 231
        },
        "outputId": "f02af0ff-ba44-4a21-ba43-618e9a5094fa"
      },
      "source": [
        "# simple function that applies a series of unitary gates from a given string\n",
        "def apply_secret_unitary(secret_unitary, qubit, quantum_circuit, dagger):\n",
        "    functionmap = {\n",
        "        'x' : quantum_circuit.x,\n",
        "        'y' : quantum_circuit.y,\n",
        "        'z' : quantum_circuit.z,\n",
        "        'h' : quantum_circuit.h,\n",
        "        't' : quantum_circuit.t,\n",
        "    }\n",
        "\n",
        "    if dagger: functionmap['t'] = quantum_circuit.tdg\n",
        "\n",
        "    if dagger:\n",
        "        [functionmap[unitary] (qubit) for unitary in secret_unitary]\n",
        "    else:\n",
        "        [functionmap[unitary] (qubit) for unitary in secret_unitary[::-1]]\n",
        "\n",
        "\n",
        "secret_unitary = 'hz'\n",
        "\n",
        "# create the quantum circuit\n",
        "q = QuantumRegister(3)\n",
        "c = ClassicalRegister(3)\n",
        "qc = QuantumCircuit(q, c)\n",
        "\n",
        "''' Qubit ordering as follows (classical registers will just contain measured values of the corresponding qubits):\n",
        "q[0]: qubit to be teleported (Alice's first qubit. It was given to her after the application of a secret unitary \n",
        "      which she doesn't know)\n",
        "q[1]: Alice's second qubit\n",
        "q[2]: Bob's qubit, which will be the destination for the teleportation\n",
        "'''\n",
        "\n",
        "# Apply the secret unitary that we are using to generate the state to teleport. \n",
        "# You can change it to any unitary\n",
        "\n",
        "apply_secret_unitary(secret_unitary, q[0], qc, dagger=0)\n",
        "qc.barrier()\n",
        "\n",
        "# Next, generate the entangled pair between Alice and Bob \n",
        "# (Remember: Hadamard followed by CX generates a Bell pair)\n",
        "\n",
        "qc.h(q[1])\n",
        "qc.cx(q[1], q[2])\n",
        "qc.barrier()\n",
        "\n",
        "# Next, apply the teleportation protocol. \n",
        "qc.cx(q[0], q[1])\n",
        "qc.h(q[0])\n",
        "qc.measure(q[0], c[0])\n",
        "qc.measure(q[1], c[1])\n",
        "qc.cx(q[1], q[2])\n",
        "qc.cx(q[0], q[2])\n",
        "qc.barrier()\n",
        "\n",
        "'''\n",
        "In principle, if the teleportation protocol worked, we have q[2] = secret_unitary|0>\n",
        "As a result, we should be able to recover q[2] = |0> by applying the reverse of secret_unitary\n",
        "since for a unitary u, u^dagger u = I.\n",
        "'''\n",
        "\n",
        "apply_secret_unitary(secret_unitary, q[2], qc, dagger=1)\n",
        "qc.measure(q[2], c[2])\n",
        "\n",
        "qc.draw(output='mpl')"
      ],
      "execution_count": 19,
      "outputs": [
        {
          "output_type": "execute_result",
          "data": {
            "image/png": "[encoded data removed]",
            "text/plain": [
              "<Figure size 1070.36x264.88 with 1 Axes>"
            ]
          },
          "metadata": {
            "tags": []
          },
          "execution_count": 19
        }
      ]
    },
    {
      "cell_type": "code",
      "metadata": {
        "id": "Tu0QvMiRHVFH",
        "colab_type": "code",
        "colab": {
          "base_uri": "https://localhost:8080/",
          "height": 357
        },
        "outputId": "155a3e48-23cf-401a-f1e2-e0ffd6e54924"
      },
      "source": [
        "backend = Aer.get_backend('qasm_simulator')\n",
        "job_sim = execute(qc, backend, shots=1024)\n",
        "sim_result = job_sim.result()\n",
        "\n",
        "measurement_result = sim_result.get_counts(qc)\n",
        "print(measurement_result)\n",
        "plot_histogram(measurement_result)"
      ],
      "execution_count": 23,
      "outputs": [
        {
          "output_type": "stream",
          "text": [
            "{'000': 263, '111': 278, '010': 242, '101': 241}\n"
          ],
          "name": "stdout"
        },
        {
          "output_type": "execute_result",
          "data": {
            "image/png": "[encoded data removed]",
            "text/plain": [
              "<Figure size 504x360 with 1 Axes>"
            ]
          },
          "metadata": {
            "tags": []
          },
          "execution_count": 23
        }
      ]
    },
    {
      "cell_type": "markdown",
      "metadata": {
        "id": "mNw_C7WSMeWP",
        "colab_type": "text"
      },
      "source": [
        "Note that the results on the x-axis in the histogram above are ordered as c2c1c0c2c1c0. We can see that only results where c2=0c2=0 appear, indicating that the teleporation protocol has worked."
      ]
    },
    {
      "cell_type": "code",
      "metadata": {
        "id": "quYl-XJ2MfUd",
        "colab_type": "code",
        "colab": {}
      },
      "source": [
        ""
      ],
      "execution_count": 0,
      "outputs": []
    }
  ]
}